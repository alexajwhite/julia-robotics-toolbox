The following notebook shows how the Spatial Maths component of the Robotics Toolbox functions.
